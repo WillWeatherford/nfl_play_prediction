{
 "cells": [
  {
   "cell_type": "markdown",
   "metadata": {},
   "source": [
    "##### Needed data cleaning\n",
    "* convert mis-categorized clockstops with defender named \"Spikes\"\n",
    "* Pull in other dataset for coaches, offensive coordinators and coaches\n",
    "* Make sure no null RushDirection on any PlayType == RUSH\n",
    "* Make sure no null PassType on any PlayType == RUSH"
   ]
  },
  {
   "cell_type": "markdown",
   "metadata": {},
   "source": [
    "##### predictions\n",
    "* rush vs pass\n",
    "* Will team convert 1st down? Series1stDown column\n",
    "* punt, FG, go for it on 4th down\n",
    "* Percentage predictions for e.g. Sack, Interception, Touchdown, Safety"
   ]
  },
  {
   "cell_type": "markdown",
   "metadata": {},
   "source": [
    "##### Add columns\n",
    "* Offensive score diff (how far ahead/behind is the team on offense)\n",
    "* Game time remaining\n",
    "* Half time remaining\n",
    "* Coach\n",
    "* Quarterback\n",
    "* Offensive coordinator"
   ]
  },
  {
   "cell_type": "code",
   "execution_count": 243,
   "metadata": {
    "collapsed": false
   },
   "outputs": [],
   "source": [
    "import pandas as pd\n",
    "import re\n",
    "\n",
    "YEARS = range(2013, 2016)\n",
    "CSV_NAMES = ['data/pbp-{}.csv'.format(year) for year in YEARS]\n",
    "\n",
    "DROPNA_COLS = [\n",
    "    'IsIncomplete',\n",
    "    'YardLineDirection',\n",
    "    'PlayType',\n",
    "]\n",
    "\n",
    "DROP_PLAYTYPES = {\n",
    "    'KICK OFF',\n",
    "    'EXCEPTION',\n",
    "    'PENALTY',\n",
    "    'TWO-POINT CONVERSION',\n",
    "    'EXTRA POINT',\n",
    "    'NO PLAY',\n",
    "    'TIMEOUT',\n",
    "    'FUMBLES',\n",
    "}\n",
    "\n",
    "DROP_COLUMNS = [\n",
    "    'Challenger',\n",
    "    'IsChallenge',\n",
    "    'IsChallengeReversed',\n",
    "    'IsFumble',\n",
    "    'IsMeasurement',\n",
    "    'IsNoPlay',\n",
    "    'IsPenalty',\n",
    "    'IsPenaltyAccepted',\n",
    "    'IsTwoPointConversion',\n",
    "    'IsTwoPointConversionSuccessful',\n",
    "    'NextScore',\n",
    "    'PenaltyTeam',\n",
    "    'PenaltyType',\n",
    "    'PenaltyYards',\n",
    "    'TeamWin',\n",
    "    'Unnamed: 10',\n",
    "    'Unnamed: 12',\n",
    "    'Unnamed: 16',\n",
    "    'Unnamed: 17',\n",
    "#     'YardLine',\n",
    "#     'YardLineDirection',\n",
    "#     'YardLineFixed',\n",
    "#     'Yards',\n",
    "]\n",
    "\n",
    "# Using (?:...) operator to parse regex groups but not capture them.\n",
    "DROP_DESC_REGEX = re.compile(r'^(?:END (?:GAME|QUARTER \\d))|(?:TIMEOUT AT \\d\\d:\\d\\d.)|(?:TWO-MINUTE WARNING)$')\n",
    "\n",
    "# Might change this to RUSH... depends\n",
    "SCRAMBLE_REPLACE = 'PASS'"
   ]
  },
  {
   "cell_type": "code",
   "execution_count": 244,
   "metadata": {
    "collapsed": true
   },
   "outputs": [],
   "source": [
    "\n",
    "def clean_nfl_plays_dataframe(df):\n",
    "    \"\"\"Clean dataframe in a number of ways.\"\"\"\n",
    "    # Drop irrelevant columns\n",
    "    df.drop(DROP_COLUMNS, axis=1, inplace=True)\n",
    "    \n",
    "    # Drop plays where both Description and PlayType are null -- unable to do anything with them\n",
    "    df.drop(df[(df.Description.isnull() & df.PlayType.isnull())].index, inplace=True)\n",
    "\n",
    "    # Drop plays which match description of various irrelevant events\n",
    "    df.drop(df[df.Description.str.contains(DROP_DESC_REGEX)].index, inplace=True)\n",
    "\n",
    "    # Convert PlayType of \"direct snap\" described plays to RUSH. Also fills many null PlayType values\n",
    "    df.loc[df.Description.str.contains('DIRECT SNAP'), 'PlayType'] = 'RUSH'\n",
    "\n",
    "    # Drop any remaining rows with null values in specific columns (weird data)\n",
    "    df.dropna(subset=DROPNA_COLS, inplace=True)\n",
    "\n",
    "    # Drop plays with irrelevant playtypes\n",
    "    df.drop(df[df.PlayType.isin(DROP_PLAYTYPES)].index, inplace=True)\n",
    "    \n",
    "    # Drop abberation 0th down plays\n",
    "    df.drop(df[df.Down == 0].index, inplace=True)\n",
    "    \n",
    "    # Change SACK PlayType to PASS -- assuming sack was made during pass attempt\n",
    "    df.PlayType.replace('SACK', 'PASS', inplace=True)\n",
    "    \n",
    "    # Change SCRAMBLE PlayType to PASS -- assuming scramble was made during pass attempt\n",
    "    df.PlayType.replace('SCRAMBLE', SCRAMBLE_REPLACE, inplace=True)\n",
    "    \n",
    "    return df\n"
   ]
  },
  {
   "cell_type": "code",
   "execution_count": null,
   "metadata": {
    "collapsed": true
   },
   "outputs": [],
   "source": []
  },
  {
   "cell_type": "code",
   "execution_count": 245,
   "metadata": {
    "collapsed": false
   },
   "outputs": [
    {
     "name": "stderr",
     "output_type": "stream",
     "text": [
      "Skipping line 2331: expected 45 fields, saw 48\n",
      "Skipping line 12467: expected 45 fields, saw 46\n",
      "Skipping line 15362: expected 45 fields, saw 48\n",
      "Skipping line 15376: expected 45 fields, saw 48\n",
      "\n",
      "Skipping line 36878: expected 45 fields, saw 48\n",
      "Skipping line 36885: expected 45 fields, saw 48\n",
      "Skipping line 42706: expected 45 fields, saw 46\n",
      "\n"
     ]
    }
   ],
   "source": [
    "# Create the dataset\n",
    "# Concatenate one dataset from all years except for last year which will be unseen data\n",
    "uncleaned_plays = pd.concat([pd.read_csv(csv_name, header=0, error_bad_lines=False) for csv_name in CSV_NAMES[:-1]])"
   ]
  },
  {
   "cell_type": "code",
   "execution_count": 246,
   "metadata": {
    "collapsed": false
   },
   "outputs": [],
   "source": [
    "# Clean the dataset\n",
    "plays = clean_nfl_plays_dataframe(uncleaned_plays)"
   ]
  },
  {
   "cell_type": "code",
   "execution_count": 247,
   "metadata": {
    "collapsed": false
   },
   "outputs": [
    {
     "data": {
      "text/plain": [
       "GameId                   0\n",
       "GameDate                 0\n",
       "Quarter                  0\n",
       "Minute                   0\n",
       "Second                   0\n",
       "OffenseTeam              0\n",
       "DefenseTeam              0\n",
       "Down                     0\n",
       "ToGo                     0\n",
       "YardLine                 0\n",
       "SeriesFirstDown          0\n",
       "Description              0\n",
       "TeamWin                  0\n",
       "SeasonYear               0\n",
       "Yards                    0\n",
       "Formation                0\n",
       "PlayType                 0\n",
       "IsRush                   0\n",
       "IsPass                   0\n",
       "IsIncomplete             0\n",
       "IsTouchdown              0\n",
       "PassType             31978\n",
       "IsSack                   0\n",
       "IsInterception           0\n",
       "IsFumble                 0\n",
       "RushDirection        42374\n",
       "YardLineFixed            0\n",
       "YardLineDirection        0\n",
       "dtype: int64"
      ]
     },
     "execution_count": 247,
     "metadata": {},
     "output_type": "execute_result"
    }
   ],
   "source": []
  },
  {
   "cell_type": "code",
   "execution_count": 250,
   "metadata": {
    "collapsed": true
   },
   "outputs": [],
   "source": [
    "tds = plays[plays.IsTouchdown == True]"
   ]
  },
  {
   "cell_type": "code",
   "execution_count": 251,
   "metadata": {
    "collapsed": false
   },
   "outputs": [
    {
     "data": {
      "text/plain": [
       "array(['(5:45) 38-B.BOLDEN UP THE MIDDLE FOR 1 YARD, TOUCHDOWN.',\n",
       "       '(7:17) 5-J.FLACCO PASS SHORT RIGHT TO 44-V.LEACH FOR 2 YARDS, TOUCHDOWN.',\n",
       "       '(11:40) (SHOTGUN) 18-P.MANNING PASS DEEP MIDDLE TO 80-J.THOMAS FOR 24 YARDS, TOUCHDOWN [99-C.CANTY].',\n",
       "       ...,\n",
       "       '(5:38) (SHOTGUN) 8-M.SCHAUB PASS SHORT LEFT INTENDED FOR 85-K.THOMPKINS INTERCEPTED BY 22-T.JOHNSON AT OAK 43. 22-T.JOHNSON FOR 43 YARDS, TOUCHDOWN.',\n",
       "       '(8:28) (NO HUDDLE) 10-E.MANNING PASS SHORT RIGHT TO 13-O.BECKHAM FOR 9 YARDS, TOUCHDOWN. PENALTY ON NYG-13-O.BECKHAM, TAUNTING, 15 YARDS, ENFORCED BETWEEN DOWNS.',\n",
       "       '(4:55) 43-O.DARKWA LEFT TACKLE FOR 12 YARDS, TOUCHDOWN.'], dtype=object)"
      ]
     },
     "execution_count": 251,
     "metadata": {},
     "output_type": "execute_result"
    }
   ],
   "source": [
    "tds.Description.values"
   ]
  },
  {
   "cell_type": "code",
   "execution_count": null,
   "metadata": {
    "collapsed": true
   },
   "outputs": [],
   "source": []
  }
 ],
 "metadata": {
  "kernelspec": {
   "display_name": "Python 2",
   "language": "python",
   "name": "python2"
  },
  "language_info": {
   "codemirror_mode": {
    "name": "ipython",
    "version": 2
   },
   "file_extension": ".py",
   "mimetype": "text/x-python",
   "name": "python",
   "nbconvert_exporter": "python",
   "pygments_lexer": "ipython2",
   "version": "2.7.13"
  }
 },
 "nbformat": 4,
 "nbformat_minor": 2
}
