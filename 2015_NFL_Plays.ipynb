{
 "cells": [
  {
   "cell_type": "markdown",
   "metadata": {},
   "source": [
    "##### Objective: Make NFL Playcall Predictions\n",
    "* Will the team on offense choose a rushing or passing play?\n",
    "* Will the team convert a 1st down?\n",
    "* Will the team punt, FG, go for it on 4th down?\n",
    "* Percentage predictions for e.g. Sack, Interception, Touchdown, Safety"
   ]
  },
  {
   "cell_type": "markdown",
   "metadata": {},
   "source": [
    "##### Needed data cleaning\n",
    "* convert mis-categorized clockstops with defender named \"Spikes\"\n",
    "* Pull in other dataset for offensive coordinators and coaches\n",
    "* Make sure no null RushDirection on any PlayType == RUSH\n",
    "* Make sure no null PassType on any PlayType == RUSH"
   ]
  },
  {
   "cell_type": "markdown",
   "metadata": {},
   "source": [
    "##### Add columns\n",
    "* Time remaining in game\n",
    "* Time remaining in half\n",
    "* Coach\n",
    "* Offensive coordinator\n",
    "* Formation (parse from description)\n",
    "* Prev PlayType"
   ]
  },
  {
   "cell_type": "code",
   "execution_count": 26,
   "metadata": {
    "collapsed": true
   },
   "outputs": [],
   "source": [
    "import pandas as pd\n",
    "from itertools import count\n",
    "\n",
    "CSV_NAME = 'data/NFLPlaybyPlay2015.csv'\n",
    "\n",
    "DROP_PLAYTYPES = {\n",
    "    'No Play',\n",
    "    'Kickoff',\n",
    "    'Timeout',\n",
    "    'Quarter End',\n",
    "    'Two Minute Warning',\n",
    "    'End of Game',\n",
    "    'Onside Kick',\n",
    "    'Half End',\n",
    "    'Extra Point',\n",
    "    'QB Kneel',\n",
    "    'Spike',\n",
    "}\n",
    "\n",
    "DROP_COLUMNS = [\n",
    "    'Unnamed: 0',\n",
    "    'Returner',\n",
    "    'BlockingPlayer',\n",
    "    'Tackler1',\n",
    "    'Tackler2',\n",
    "    'PlayTimeDiff',\n",
    "    'Challenge.Replay',\n",
    "    'ChalReplayResult',\n",
    "    'Accepted.Penalty',\n",
    "    'PenalizedTeam',\n",
    "    'PenaltyType',\n",
    "    'PenalizedPlayer',\n",
    "    'Penalty.Yards',\n",
    "    'Season',\n",
    "    'Interceptor',\n",
    "    'Date',\n",
    "    'ExPointResult',\n",
    "    'Receiver',\n",
    "    'ReturnResult',\n",
    "    'Fumble',\n",
    "    'RecFumbTeam',\n",
    "    'RecFumbPlayer',\n",
    "    'GoalToGo',\n",
    "    'Drive',\n",
    "    'TwoPointConv',\n",
    "    'DefTwoPoint',\n",
    "    'FieldGoalResult',\n",
    "    'FieldGoalDistance',\n",
    "    'PuntResult',\n",
    "]\n",
    "\n",
    "COL_RENAME_MAP = {\n",
    "    'sp': 'ScoringPlay',\n",
    "    'desc': 'Description',\n",
    "    'qtr': 'Quarter',\n",
    "    'down': 'Down',\n",
    "    'time': 'Time',\n",
    "    'posteam': 'OffensiveTeam',\n",
    "    'DefTeamScore': 'DefensiveTeamScore',\n",
    "    'PosTeamScore': 'OffensiveTeamScore',\n",
    "    'Yards.Gained': 'YardsGained',\n",
    "    'yrdln': 'YardLine',\n",
    "    'yrdline100': 'YardLineOf100',\n",
    "    'ydstogo': 'YardsToGo',\n",
    "    'ydsnet': 'YardsNet',\n",
    "}\n",
    "\n",
    "DROPNA_COLS = [\n",
    "    'ScoreDiff',\n",
    "    'Time',\n",
    "    'Down',\n",
    "    'FirstDown',\n",
    "]\n",
    "\n",
    "FEATURE_COLS = [\n",
    "    'Down',\n",
    "    'TimeSecs',\n",
    "    'YardsToGo',\n",
    "    'ScoreDiff',\n",
    "#     'OffensiveTeam',\n",
    "#     'DefensiveTeam',\n",
    "    # Add \"Coach\" column\n",
    "    # Add \"Offensive Coordinator\" column\n",
    "#     'Passer',\n",
    "]\n",
    "\n",
    "RESPONSE_COL = 'PlayTypeInt'"
   ]
  },
  {
   "cell_type": "code",
   "execution_count": 37,
   "metadata": {
    "collapsed": true
   },
   "outputs": [],
   "source": [
    "\n",
    "def clean_nfl_plays_dataframe(unclean_df):\n",
    "    \"\"\"Clean dataframe in a number of ways.\"\"\"\n",
    "    df = unclean_df.copy()\n",
    "\n",
    "    # Drop irrelevant columns\n",
    "    df.drop(DROP_COLUMNS, axis=1, inplace=True)\n",
    "    \n",
    "    # Rename poorly named columns\n",
    "    df.rename(columns=COL_RENAME_MAP, inplace=True)\n",
    "\n",
    "    # Drop any remaining rows with null values in specific columns (weird data)\n",
    "    df.dropna(subset=DROPNA_COLS, inplace=True)\n",
    "\n",
    "    # Drop plays with irrelevant playtypes\n",
    "    df.drop(df[df.PlayType.isin(DROP_PLAYTYPES)].index, inplace=True)\n",
    "    \n",
    "    # Change SACK PlayType to PASS -- assuming sack was made during pass attempt\n",
    "    df.PlayType.replace('Sack', 'Pass', inplace=True)\n",
    "    \n",
    "    return df\n"
   ]
  },
  {
   "cell_type": "code",
   "execution_count": 28,
   "metadata": {
    "collapsed": false
   },
   "outputs": [],
   "source": [
    "uncleaned_plays = pd.read_csv(CSV_NAME, header=0)"
   ]
  },
  {
   "cell_type": "code",
   "execution_count": null,
   "metadata": {
    "collapsed": true
   },
   "outputs": [],
   "source": []
  },
  {
   "cell_type": "code",
   "execution_count": 29,
   "metadata": {
    "collapsed": false
   },
   "outputs": [],
   "source": [
    "plays = clean_nfl_plays_dataframe(uncleaned_plays)"
   ]
  },
  {
   "cell_type": "code",
   "execution_count": 30,
   "metadata": {
    "collapsed": false
   },
   "outputs": [
    {
     "data": {
      "text/plain": [
       "Pass          19447\n",
       "Run           13067\n",
       "Punt           2443\n",
       "Field Goal      988\n",
       "Name: PlayType, dtype: int64"
      ]
     },
     "execution_count": 30,
     "metadata": {},
     "output_type": "execute_result"
    }
   ],
   "source": [
    "plays.PlayType.value_counts()"
   ]
  },
  {
   "cell_type": "code",
   "execution_count": 31,
   "metadata": {
    "collapsed": false
   },
   "outputs": [
    {
     "data": {
      "text/plain": [
       "Index([u'GameID', u'Quarter', u'Down', u'Time', u'TimeUnder', u'TimeSecs',\n",
       "       u'SideofField', u'YardLine', u'YardLineOf100', u'YardsToGo',\n",
       "       u'YardsNet', u'FirstDown', u'OffensiveTeam', u'DefensiveTeam',\n",
       "       u'Description', u'PlayAttempted', u'YardsGained', u'ScoringPlay',\n",
       "       u'Touchdown', u'Safety', u'PlayType', u'Passer', u'PassAttempt',\n",
       "       u'PassOutcome', u'PassLength', u'PassLocation', u'InterceptionThrown',\n",
       "       u'Rusher', u'RushAttempt', u'RunLocation', u'RunGap', u'Reception',\n",
       "       u'Sack', u'OffensiveTeamScore', u'DefensiveTeamScore', u'ScoreDiff',\n",
       "       u'AbsScoreDiff'],\n",
       "      dtype='object')"
      ]
     },
     "execution_count": 31,
     "metadata": {},
     "output_type": "execute_result"
    }
   ],
   "source": [
    "plays.columns"
   ]
  },
  {
   "cell_type": "code",
   "execution_count": 32,
   "metadata": {
    "collapsed": false
   },
   "outputs": [
    {
     "data": {
      "text/plain": [
       "(35945, 37)"
      ]
     },
     "execution_count": 32,
     "metadata": {},
     "output_type": "execute_result"
    }
   ],
   "source": [
    "plays.shape"
   ]
  },
  {
   "cell_type": "code",
   "execution_count": 33,
   "metadata": {
    "collapsed": false
   },
   "outputs": [],
   "source": [
    "playtype_int_map = dict(zip(plays.PlayType.unique(), count()))\n",
    "\n",
    "plays[RESPONSE_COL] = plays.PlayType.map(playtype_int_map)"
   ]
  },
  {
   "cell_type": "markdown",
   "metadata": {},
   "source": [
    "### Training and testing"
   ]
  },
  {
   "cell_type": "code",
   "execution_count": 34,
   "metadata": {
    "collapsed": false
   },
   "outputs": [],
   "source": [
    "from sklearn.neighbors import KNeighborsClassifier\n",
    "from sklearn.cross_validation import train_test_split\n",
    "from sklearn.metrics import accuracy_score\n",
    "import numpy as np\n",
    "\n",
    "K_RANGE = range(1, 20)\n",
    "features = plays[FEATURE_COLS]\n",
    "response = plays[RESPONSE_COL]"
   ]
  },
  {
   "cell_type": "code",
   "execution_count": 38,
   "metadata": {
    "collapsed": false
   },
   "outputs": [],
   "source": [
    "\n",
    "\n",
    "training_error = []\n",
    "testing_error = []\n",
    "\n",
    "\n",
    "for n in K_RANGE:\n",
    "    features_train, features_test, response_train, response_test = train_test_split(features, response)\n",
    "    knn = KNeighborsClassifier(n_neighbors=n)\n",
    "    knn.fit(features, response)\n",
    "    prediction = knn.predict(features)\n",
    "    training_accuracy = accuracy_score(response, prediction)\n",
    "    training_error.append(1 - training_accuracy)\n",
    "    \n",
    "    knn = KNeighborsClassifier(n_neighbors=n)\n",
    "    knn.fit(features_train, response_train)\n",
    "    prediction = knn.predict(features_test)\n",
    "    testing_accuracy = accuracy_score(response_test, prediction)\n",
    "    testing_error.append(1 - testing_accuracy)\n"
   ]
  },
  {
   "cell_type": "code",
   "execution_count": 39,
   "metadata": {
    "collapsed": false
   },
   "outputs": [
    {
     "data": {
      "text/plain": [
       "<matplotlib.text.Text at 0x7f762baf0290>"
      ]
     },
     "execution_count": 39,
     "metadata": {},
     "output_type": "execute_result"
    },
    {
     "data": {
      "image/png": "[encoded data removed]",
      "text/plain": [
       "<matplotlib.figure.Figure at 0x7f762bb07b50>"
      ]
     },
     "metadata": {},
     "output_type": "display_data"
    }
   ],
   "source": [
    "%matplotlib inline\n",
    "import matplotlib.pyplot as plt\n",
    "plt.style.use('fivethirtyeight')\n",
    "column_dict = {\n",
    "    'K': K_RANGE,\n",
    "    'training error': training_error,\n",
    "    'testing error': testing_error,\n",
    "    'avg': [(tr + te)/2.0 for tr, te in zip(training_error, testing_error)]\n",
    "}\n",
    "df = pd.DataFrame(column_dict).set_index('K').sort_index(ascending=True)\n",
    "df.plot()\n",
    "plt.xlabel('Value of K for KNN')\n",
    "plt.ylabel('Accurac (lower is better)')"
   ]
  },
  {
   "cell_type": "code",
   "execution_count": 41,
   "metadata": {
    "collapsed": false
   },
   "outputs": [
    {
     "data": {
      "text/plain": [
       "Pass          0.541021\n",
       "Run           0.363528\n",
       "Punt          0.067965\n",
       "Field Goal    0.027486\n",
       "Name: PlayType, dtype: float64"
      ]
     },
     "execution_count": 41,
     "metadata": {},
     "output_type": "execute_result"
    }
   ],
   "source": [
    "plays.PlayType.value_counts(1)"
   ]
  },
  {
   "cell_type": "code",
   "execution_count": null,
   "metadata": {
    "collapsed": false
   },
   "outputs": [],
   "source": [
    "from sklearn.ensemble import RandomForestClassifier\n",
    "\n",
    "for n in K_RANGE:\n",
    "    features_train, features_test, response_train, response_test = train_test_split(features, response)\n",
    "    knn = RandomForestClassifier(n_neighbors=n)\n",
    "    knn.fit(features, response)\n",
    "    prediction = knn.predict(features)\n",
    "    training_accuracy = accuracy_score(response, prediction)\n",
    "    training_error.append(1 - training_accuracy)\n",
    "    \n",
    "    knn = RandomForestClassifier(n_neighbors=n)\n",
    "    knn.fit(features_train, response_train)\n",
    "    prediction = knn.predict(features_test)\n",
    "    testing_accuracy = accuracy_score(response_test, prediction)\n",
    "    testing_error.append(1 - testing_accuracy)"
   ]
  },
  {
   "cell_type": "code",
   "execution_count": null,
   "metadata": {
    "collapsed": true
   },
   "outputs": [],
   "source": []
  },
  {
   "cell_type": "code",
   "execution_count": null,
   "metadata": {
    "collapsed": true
   },
   "outputs": [],
   "source": []
  }
 ],
 "metadata": {
  "kernelspec": {
   "display_name": "Python 2",
   "language": "python",
   "name": "python2"
  },
  "language_info": {
   "codemirror_mode": {
    "name": "ipython",
    "version": 2
   },
   "file_extension": ".py",
   "mimetype": "text/x-python",
   "name": "python",
   "nbconvert_exporter": "python",
   "pygments_lexer": "ipython2",
   "version": "2.7.13"
  }
 },
 "nbformat": 4,
 "nbformat_minor": 2
}
